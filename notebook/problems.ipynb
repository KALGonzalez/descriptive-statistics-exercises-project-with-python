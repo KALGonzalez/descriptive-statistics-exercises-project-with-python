{
    "cells": [
        {
            "cell_type": "markdown",
            "id": "ac622319",
            "metadata": {},
            "source": [
                "# Descriptive statistics problems"
            ]
        },
        {
            "cell_type": "markdown",
            "id": "5e0ab0d5",
            "metadata": {},
            "source": [
                "### Exercise 1\n",
                "\n",
                "We will use NumPy to obtain information to describe statistically.\n",
                "\n",
                "- Generate an array of 100 elements following a normal distribution.\n",
                "- Generate an array of 100 elements following a chi-square distribution with 3 degrees of freedom.\n",
                "- Calculate the main metrics and statistical measures that best describe the two vectors."
            ]
        },
        {
            "cell_type": "code",
            "execution_count": 1,
            "id": "34720ab6",
            "metadata": {},
            "outputs": [
                {
                    "name": "stdout",
                    "output_type": "stream",
                    "text": [
                        "Estadísticas de la distribución normal:\n",
                        "mean: -0.0468\n",
                        "median: -0.0359\n",
                        "std_dev: 0.9660\n",
                        "variance: 0.9332\n",
                        "min: -2.6793\n",
                        "max: 2.6283\n",
                        "25th percentile: -0.7892\n",
                        "75th percentile: 0.5154\n",
                        "\n",
                        "Estadísticas de la distribución chi-cuadrado:\n",
                        "mean: 2.9402\n",
                        "median: 2.4012\n",
                        "std_dev: 2.3670\n",
                        "variance: 5.6026\n",
                        "min: 0.1070\n",
                        "max: 12.9866\n",
                        "25th percentile: 1.2140\n",
                        "75th percentile: 4.0061\n"
                    ]
                }
            ],
            "source": [
                "# TODO\n",
                "\n",
                "import numpy as np\n",
                "\n",
                "# Generar un array de 100 elementos siguiendo una distribución normal\n",
                "normal_array = np.random.normal(loc=0, scale=1, size=100)\n",
                "\n",
                "# Generar un array de 100 elementos siguiendo una distribución chi-cuadrado con 3 grados de libertad\n",
                "chi_square_array = np.random.chisquare(df=3, size=100)\n",
                "\n",
                "# Calcular las métricas y medidas estadísticas\n",
                "def calculate_statistics(array):\n",
                "    mean = np.mean(array)\n",
                "    median = np.median(array)\n",
                "    std_dev = np.std(array)\n",
                "    var = np.var(array)\n",
                "    min_val = np.min(array)\n",
                "    max_val = np.max(array)\n",
                "    q25 = np.percentile(array, 25)\n",
                "    q75 = np.percentile(array, 75)\n",
                "    return {\n",
                "        'mean': mean,\n",
                "        'median': median,\n",
                "        'std_dev': std_dev,\n",
                "        'variance': var,\n",
                "        'min': min_val,\n",
                "        'max': max_val,\n",
                "        '25th percentile': q25,\n",
                "        '75th percentile': q75\n",
                "    }\n",
                "\n",
                "# Obtener las estadísticas de ambos arrays\n",
                "normal_stats = calculate_statistics(normal_array)\n",
                "chi_square_stats = calculate_statistics(chi_square_array)\n",
                "\n",
                "print(\"Estadísticas de la distribución normal:\")\n",
                "for key, value in normal_stats.items():\n",
                "    print(f\"{key}: {value:.4f}\")\n",
                "\n",
                "print(\"\\nEstadísticas de la distribución chi-cuadrado:\")\n",
                "for key, value in chi_square_stats.items():\n",
                "    print(f\"{key}: {value:.4f}\")\n"
            ]
        },
        {
            "cell_type": "markdown",
            "id": "46c70c3d",
            "metadata": {},
            "source": [
                "### Exercise 2\n",
                "\n",
                "Write a Python program to calculate the standard deviation of the following data:\n",
                "\n",
                "```py\n",
                "data = [4, 2, 5, 8, 6]\n",
                "```"
            ]
        },
        {
            "cell_type": "code",
            "execution_count": 2,
            "id": "d590308e",
            "metadata": {},
            "outputs": [
                {
                    "name": "stdout",
                    "output_type": "stream",
                    "text": [
                        "La desviación estándar de los datos es: 2.0000\n"
                    ]
                }
            ],
            "source": [
                "# TODO\n",
                "\n",
                "import numpy as np\n",
                "\n",
                "data = [4, 2, 5, 8, 6]\n",
                "\n",
                "# Calcular la desviación estándar\n",
                "std_dev = np.std(data, ddof=0)\n",
                "\n",
                "print(f\"La desviación estándar de los datos es: {std_dev:.4f}\")\n"
            ]
        }
    ],
    "metadata": {
        "interpreter": {
            "hash": "9248718ffe6ce6938b217e69dbcc175ea21f4c6b28a317e96c05334edae734bb"
        },
        "kernelspec": {
            "display_name": "Python 3.9.12 ('ML-BOOTCAMP')",
            "language": "python",
            "name": "python3"
        },
        "language_info": {
            "codemirror_mode": {
                "name": "ipython",
                "version": 3
            },
            "file_extension": ".py",
            "mimetype": "text/x-python",
            "name": "python",
            "nbconvert_exporter": "python",
            "pygments_lexer": "ipython3",
            "version": "3.11.4"
        }
    },
    "nbformat": 4,
    "nbformat_minor": 5
}
